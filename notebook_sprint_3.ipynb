{
  "cells": [
    {
      "cell_type": "markdown",
      "metadata": {
        "id": "E0vqbgi9ay0H"
      },
      "source": [
        "# Déjame escuchar música"
      ]
    },
    {
      "cell_type": "markdown",
      "metadata": {
        "id": "fhq_eyov_Zcs"
      },
      "source": [
        "# Contenido <a id='back'></a>\n",
        "\n",
        "* [Introducción](#intro)\n",
        "* [Etapa 1. Descripción de los datos](#data_review)\n",
        "    * [Conclusiones](#data_review_conclusions)\n",
        "* [Etapa 2. Preprocesamiento de datos](#data_preprocessing)\n",
        "    * [2.1 Estilo del encabezado](#header_style)\n",
        "    * [2.2 Valores ausentes](#missing_values)\n",
        "    * [2.3 Duplicados](#duplicates)\n",
        "    * [2.4 Conclusiones](#data_preprocessing_conclusions)\n",
        "* [Etapa 3. Prueba de hipótesis](#hypothesis)\n",
        "    * [3.1 Hipótesis 1: actividad de los usuarios y las usuarias en las dos ciudades](#activity)\n",
        "* [Conclusiones](#end)"
      ]
    },
    {
      "cell_type": "markdown",
      "metadata": {
        "id": "VUC88oWjTJw2"
      },
      "source": [
        "## Introducción <a id='intro'></a>\n",
        "Como analista de datos, tu trabajo consiste en analizar datos para extraer información valiosa de ellos y tomar decisiones en consecuencia. Esto implica pasar por diferentes etapas, como la descripción general de los datos, el preprocesamiento y la prueba de hipótesis.\n",
        "\n",
        "Siempre que investiguemos, necesitamos formular hipótesis que después podamos probar. A veces, aceptaremos estas hipótesis; otras veces, las rechazaremos. Para tomar las decisiones adecuadas, una empresa debe ser capaz de entender si está haciendo las suposiciones correctas.\n",
        "\n",
        "En este proyecto, compararás las preferencias musicales de las ciudades de Springfield y Shelbyville. Estudiarás datos reales de música online para probar la hipótesis que planteamos a continuación y compararás el comportamiento de los usuarios de estas dos ciudades.\n",
        "\n",
        "### Objetivo:\n",
        "Probar la hipótesis:\n",
        "1. La actividad de los usuarios difiere según el día de la semana y dependiendo de la ciudad.\n",
        "\n",
        "\n",
        "### Etapas\n",
        "Los datos del comportamiento de los usuarios se almacenan en el archivo `/datasets/music_project_en.csv`. No hay información sobre la calidad de los datos, así que necesitarás examinarlos antes de probar la hipótesis.\n",
        "\n",
        "Primero, debes evaluar la calidad de los datos y ver si los problemas son significativos. Más tarde, durante el preprocesamiento de datos, deberás abordar los problemas más críticos.\n",
        "\n",
        "Tu proyecto contará con estas tres etapas:\n",
        " 1. Descripción de los datos.\n",
        " 2. Preprocesamiento de los datos.\n",
        " 3. Prueba de la hipótesis.\n",
        "\n",
        "\n",
        "\n",
        "\n",
        "\n",
        "\n"
      ]
    },
    {
      "cell_type": "markdown",
      "metadata": {
        "id": "hDt6pg-Rw-1U"
      },
      "source": [
        "[Volver a Contenidos](#back)"
      ]
    },
    {
      "cell_type": "markdown",
      "metadata": {
        "id": "Ml1hmfXC_Zcs"
      },
      "source": [
        "## Etapa 1. Descripción de los datos <a id='data_review'></a>\n",
        "\n",
        "Abre los datos y examínalos."
      ]
    },
    {
      "cell_type": "markdown",
      "metadata": {
        "id": "57eAOGIz_Zcs"
      },
      "source": [
        "Etapa 1.1. Necesitarás `pandas`, así que impórtalo."
      ]
    },
    {
      "cell_type": "code",
      "execution_count": 1,
      "metadata": {
        "id": "AXN7PHPN_Zcs"
      },
      "outputs": [],
      "source": [
        "# Importa pandas\n",
        "import pandas as pd"
      ]
    },
    {
      "cell_type": "markdown",
      "metadata": {
        "id": "SG23P8tt_Zcs"
      },
      "source": [
        "Etapa 1.2. Lee el archivo `music_project_en.csv` de la carpeta `/datasets/` y guárdalo en la variable `df`:"
      ]
    },
    {
      "cell_type": "code",
      "execution_count": 2,
      "metadata": {
        "id": "fFVu7vqh_Zct"
      },
      "outputs": [],
      "source": [
        "# Lee el archivo y almacénalo en df\n",
        "# df = pd.read_csv('/datasets/music_project_en.csv')\n",
        "df = pd.read_csv('/content/music_project_en.csv')"
      ]
    },
    {
      "cell_type": "markdown",
      "metadata": {
        "id": "rDoOMd3uTqnZ"
      },
      "source": [
        "Etapa 1.3. Muestra las 10 primeras filas de la tabla:"
      ]
    },
    {
      "cell_type": "code",
      "execution_count": 3,
      "metadata": {
        "id": "oWTVX3gW_Zct",
        "outputId": "7178c76e-3ee2-40e2-ef90-44adabe90180",
        "colab": {
          "base_uri": "https://localhost:8080/",
          "height": 363
        }
      },
      "outputs": [
        {
          "output_type": "execute_result",
          "data": {
            "text/plain": [
              "     userID                        Track            artist   genre  \\\n",
              "0  FFB692EC            Kamigata To Boots  The Mass Missile    rock   \n",
              "1  55204538  Delayed Because of Accident  Andreas Rönnberg    rock   \n",
              "2    20EC38            Funiculì funiculà       Mario Lanza     pop   \n",
              "3  A3DD03C9        Dragons in the Sunset        Fire + Ice    folk   \n",
              "4  E2DC1FAE                  Soul People        Space Echo   dance   \n",
              "5  842029A1                       Chains          Obladaet  rusrap   \n",
              "6  4CB90AA5                         True      Roman Messer   dance   \n",
              "7  F03E1C1F             Feeling This Way   Polina Griffith   dance   \n",
              "8  8FA1D3BE                     L’estate       Julia Dalia  ruspop   \n",
              "9  E772D5C0                    Pessimist               NaN   dance   \n",
              "\n",
              "        City        time        Day  \n",
              "0  Shelbyville  20:28:33  Wednesday  \n",
              "1  Springfield  14:07:09     Friday  \n",
              "2  Shelbyville  20:58:07  Wednesday  \n",
              "3  Shelbyville  08:37:09     Monday  \n",
              "4  Springfield  08:34:34     Monday  \n",
              "5  Shelbyville  13:09:41     Friday  \n",
              "6  Springfield  13:00:07  Wednesday  \n",
              "7  Springfield  20:47:49  Wednesday  \n",
              "8  Springfield  09:17:40     Friday  \n",
              "9  Shelbyville  21:20:49  Wednesday  "
            ],
            "text/html": [
              "\n",
              "  <div id=\"df-68a95f9a-a647-4ec1-b27a-e88d6b543bc9\" class=\"colab-df-container\">\n",
              "    <div>\n",
              "<style scoped>\n",
              "    .dataframe tbody tr th:only-of-type {\n",
              "        vertical-align: middle;\n",
              "    }\n",
              "\n",
              "    .dataframe tbody tr th {\n",
              "        vertical-align: top;\n",
              "    }\n",
              "\n",
              "    .dataframe thead th {\n",
              "        text-align: right;\n",
              "    }\n",
              "</style>\n",
              "<table border=\"1\" class=\"dataframe\">\n",
              "  <thead>\n",
              "    <tr style=\"text-align: right;\">\n",
              "      <th></th>\n",
              "      <th>userID</th>\n",
              "      <th>Track</th>\n",
              "      <th>artist</th>\n",
              "      <th>genre</th>\n",
              "      <th>City</th>\n",
              "      <th>time</th>\n",
              "      <th>Day</th>\n",
              "    </tr>\n",
              "  </thead>\n",
              "  <tbody>\n",
              "    <tr>\n",
              "      <th>0</th>\n",
              "      <td>FFB692EC</td>\n",
              "      <td>Kamigata To Boots</td>\n",
              "      <td>The Mass Missile</td>\n",
              "      <td>rock</td>\n",
              "      <td>Shelbyville</td>\n",
              "      <td>20:28:33</td>\n",
              "      <td>Wednesday</td>\n",
              "    </tr>\n",
              "    <tr>\n",
              "      <th>1</th>\n",
              "      <td>55204538</td>\n",
              "      <td>Delayed Because of Accident</td>\n",
              "      <td>Andreas Rönnberg</td>\n",
              "      <td>rock</td>\n",
              "      <td>Springfield</td>\n",
              "      <td>14:07:09</td>\n",
              "      <td>Friday</td>\n",
              "    </tr>\n",
              "    <tr>\n",
              "      <th>2</th>\n",
              "      <td>20EC38</td>\n",
              "      <td>Funiculì funiculà</td>\n",
              "      <td>Mario Lanza</td>\n",
              "      <td>pop</td>\n",
              "      <td>Shelbyville</td>\n",
              "      <td>20:58:07</td>\n",
              "      <td>Wednesday</td>\n",
              "    </tr>\n",
              "    <tr>\n",
              "      <th>3</th>\n",
              "      <td>A3DD03C9</td>\n",
              "      <td>Dragons in the Sunset</td>\n",
              "      <td>Fire + Ice</td>\n",
              "      <td>folk</td>\n",
              "      <td>Shelbyville</td>\n",
              "      <td>08:37:09</td>\n",
              "      <td>Monday</td>\n",
              "    </tr>\n",
              "    <tr>\n",
              "      <th>4</th>\n",
              "      <td>E2DC1FAE</td>\n",
              "      <td>Soul People</td>\n",
              "      <td>Space Echo</td>\n",
              "      <td>dance</td>\n",
              "      <td>Springfield</td>\n",
              "      <td>08:34:34</td>\n",
              "      <td>Monday</td>\n",
              "    </tr>\n",
              "    <tr>\n",
              "      <th>5</th>\n",
              "      <td>842029A1</td>\n",
              "      <td>Chains</td>\n",
              "      <td>Obladaet</td>\n",
              "      <td>rusrap</td>\n",
              "      <td>Shelbyville</td>\n",
              "      <td>13:09:41</td>\n",
              "      <td>Friday</td>\n",
              "    </tr>\n",
              "    <tr>\n",
              "      <th>6</th>\n",
              "      <td>4CB90AA5</td>\n",
              "      <td>True</td>\n",
              "      <td>Roman Messer</td>\n",
              "      <td>dance</td>\n",
              "      <td>Springfield</td>\n",
              "      <td>13:00:07</td>\n",
              "      <td>Wednesday</td>\n",
              "    </tr>\n",
              "    <tr>\n",
              "      <th>7</th>\n",
              "      <td>F03E1C1F</td>\n",
              "      <td>Feeling This Way</td>\n",
              "      <td>Polina Griffith</td>\n",
              "      <td>dance</td>\n",
              "      <td>Springfield</td>\n",
              "      <td>20:47:49</td>\n",
              "      <td>Wednesday</td>\n",
              "    </tr>\n",
              "    <tr>\n",
              "      <th>8</th>\n",
              "      <td>8FA1D3BE</td>\n",
              "      <td>L’estate</td>\n",
              "      <td>Julia Dalia</td>\n",
              "      <td>ruspop</td>\n",
              "      <td>Springfield</td>\n",
              "      <td>09:17:40</td>\n",
              "      <td>Friday</td>\n",
              "    </tr>\n",
              "    <tr>\n",
              "      <th>9</th>\n",
              "      <td>E772D5C0</td>\n",
              "      <td>Pessimist</td>\n",
              "      <td>NaN</td>\n",
              "      <td>dance</td>\n",
              "      <td>Shelbyville</td>\n",
              "      <td>21:20:49</td>\n",
              "      <td>Wednesday</td>\n",
              "    </tr>\n",
              "  </tbody>\n",
              "</table>\n",
              "</div>\n",
              "    <div class=\"colab-df-buttons\">\n",
              "\n",
              "  <div class=\"colab-df-container\">\n",
              "    <button class=\"colab-df-convert\" onclick=\"convertToInteractive('df-68a95f9a-a647-4ec1-b27a-e88d6b543bc9')\"\n",
              "            title=\"Convert this dataframe to an interactive table.\"\n",
              "            style=\"display:none;\">\n",
              "\n",
              "  <svg xmlns=\"http://www.w3.org/2000/svg\" height=\"24px\" viewBox=\"0 -960 960 960\">\n",
              "    <path d=\"M120-120v-720h720v720H120Zm60-500h600v-160H180v160Zm220 220h160v-160H400v160Zm0 220h160v-160H400v160ZM180-400h160v-160H180v160Zm440 0h160v-160H620v160ZM180-180h160v-160H180v160Zm440 0h160v-160H620v160Z\"/>\n",
              "  </svg>\n",
              "    </button>\n",
              "\n",
              "  <style>\n",
              "    .colab-df-container {\n",
              "      display:flex;\n",
              "      gap: 12px;\n",
              "    }\n",
              "\n",
              "    .colab-df-convert {\n",
              "      background-color: #E8F0FE;\n",
              "      border: none;\n",
              "      border-radius: 50%;\n",
              "      cursor: pointer;\n",
              "      display: none;\n",
              "      fill: #1967D2;\n",
              "      height: 32px;\n",
              "      padding: 0 0 0 0;\n",
              "      width: 32px;\n",
              "    }\n",
              "\n",
              "    .colab-df-convert:hover {\n",
              "      background-color: #E2EBFA;\n",
              "      box-shadow: 0px 1px 2px rgba(60, 64, 67, 0.3), 0px 1px 3px 1px rgba(60, 64, 67, 0.15);\n",
              "      fill: #174EA6;\n",
              "    }\n",
              "\n",
              "    .colab-df-buttons div {\n",
              "      margin-bottom: 4px;\n",
              "    }\n",
              "\n",
              "    [theme=dark] .colab-df-convert {\n",
              "      background-color: #3B4455;\n",
              "      fill: #D2E3FC;\n",
              "    }\n",
              "\n",
              "    [theme=dark] .colab-df-convert:hover {\n",
              "      background-color: #434B5C;\n",
              "      box-shadow: 0px 1px 3px 1px rgba(0, 0, 0, 0.15);\n",
              "      filter: drop-shadow(0px 1px 2px rgba(0, 0, 0, 0.3));\n",
              "      fill: #FFFFFF;\n",
              "    }\n",
              "  </style>\n",
              "\n",
              "    <script>\n",
              "      const buttonEl =\n",
              "        document.querySelector('#df-68a95f9a-a647-4ec1-b27a-e88d6b543bc9 button.colab-df-convert');\n",
              "      buttonEl.style.display =\n",
              "        google.colab.kernel.accessAllowed ? 'block' : 'none';\n",
              "\n",
              "      async function convertToInteractive(key) {\n",
              "        const element = document.querySelector('#df-68a95f9a-a647-4ec1-b27a-e88d6b543bc9');\n",
              "        const dataTable =\n",
              "          await google.colab.kernel.invokeFunction('convertToInteractive',\n",
              "                                                    [key], {});\n",
              "        if (!dataTable) return;\n",
              "\n",
              "        const docLinkHtml = 'Like what you see? Visit the ' +\n",
              "          '<a target=\"_blank\" href=https://colab.research.google.com/notebooks/data_table.ipynb>data table notebook</a>'\n",
              "          + ' to learn more about interactive tables.';\n",
              "        element.innerHTML = '';\n",
              "        dataTable['output_type'] = 'display_data';\n",
              "        await google.colab.output.renderOutput(dataTable, element);\n",
              "        const docLink = document.createElement('div');\n",
              "        docLink.innerHTML = docLinkHtml;\n",
              "        element.appendChild(docLink);\n",
              "      }\n",
              "    </script>\n",
              "  </div>\n",
              "\n",
              "\n",
              "    <div id=\"df-574d8085-b9c7-434f-8af2-35b301db3f9e\">\n",
              "      <button class=\"colab-df-quickchart\" onclick=\"quickchart('df-574d8085-b9c7-434f-8af2-35b301db3f9e')\"\n",
              "                title=\"Suggest charts\"\n",
              "                style=\"display:none;\">\n",
              "\n",
              "<svg xmlns=\"http://www.w3.org/2000/svg\" height=\"24px\"viewBox=\"0 0 24 24\"\n",
              "     width=\"24px\">\n",
              "    <g>\n",
              "        <path d=\"M19 3H5c-1.1 0-2 .9-2 2v14c0 1.1.9 2 2 2h14c1.1 0 2-.9 2-2V5c0-1.1-.9-2-2-2zM9 17H7v-7h2v7zm4 0h-2V7h2v10zm4 0h-2v-4h2v4z\"/>\n",
              "    </g>\n",
              "</svg>\n",
              "      </button>\n",
              "\n",
              "<style>\n",
              "  .colab-df-quickchart {\n",
              "      --bg-color: #E8F0FE;\n",
              "      --fill-color: #1967D2;\n",
              "      --hover-bg-color: #E2EBFA;\n",
              "      --hover-fill-color: #174EA6;\n",
              "      --disabled-fill-color: #AAA;\n",
              "      --disabled-bg-color: #DDD;\n",
              "  }\n",
              "\n",
              "  [theme=dark] .colab-df-quickchart {\n",
              "      --bg-color: #3B4455;\n",
              "      --fill-color: #D2E3FC;\n",
              "      --hover-bg-color: #434B5C;\n",
              "      --hover-fill-color: #FFFFFF;\n",
              "      --disabled-bg-color: #3B4455;\n",
              "      --disabled-fill-color: #666;\n",
              "  }\n",
              "\n",
              "  .colab-df-quickchart {\n",
              "    background-color: var(--bg-color);\n",
              "    border: none;\n",
              "    border-radius: 50%;\n",
              "    cursor: pointer;\n",
              "    display: none;\n",
              "    fill: var(--fill-color);\n",
              "    height: 32px;\n",
              "    padding: 0;\n",
              "    width: 32px;\n",
              "  }\n",
              "\n",
              "  .colab-df-quickchart:hover {\n",
              "    background-color: var(--hover-bg-color);\n",
              "    box-shadow: 0 1px 2px rgba(60, 64, 67, 0.3), 0 1px 3px 1px rgba(60, 64, 67, 0.15);\n",
              "    fill: var(--button-hover-fill-color);\n",
              "  }\n",
              "\n",
              "  .colab-df-quickchart-complete:disabled,\n",
              "  .colab-df-quickchart-complete:disabled:hover {\n",
              "    background-color: var(--disabled-bg-color);\n",
              "    fill: var(--disabled-fill-color);\n",
              "    box-shadow: none;\n",
              "  }\n",
              "\n",
              "  .colab-df-spinner {\n",
              "    border: 2px solid var(--fill-color);\n",
              "    border-color: transparent;\n",
              "    border-bottom-color: var(--fill-color);\n",
              "    animation:\n",
              "      spin 1s steps(1) infinite;\n",
              "  }\n",
              "\n",
              "  @keyframes spin {\n",
              "    0% {\n",
              "      border-color: transparent;\n",
              "      border-bottom-color: var(--fill-color);\n",
              "      border-left-color: var(--fill-color);\n",
              "    }\n",
              "    20% {\n",
              "      border-color: transparent;\n",
              "      border-left-color: var(--fill-color);\n",
              "      border-top-color: var(--fill-color);\n",
              "    }\n",
              "    30% {\n",
              "      border-color: transparent;\n",
              "      border-left-color: var(--fill-color);\n",
              "      border-top-color: var(--fill-color);\n",
              "      border-right-color: var(--fill-color);\n",
              "    }\n",
              "    40% {\n",
              "      border-color: transparent;\n",
              "      border-right-color: var(--fill-color);\n",
              "      border-top-color: var(--fill-color);\n",
              "    }\n",
              "    60% {\n",
              "      border-color: transparent;\n",
              "      border-right-color: var(--fill-color);\n",
              "    }\n",
              "    80% {\n",
              "      border-color: transparent;\n",
              "      border-right-color: var(--fill-color);\n",
              "      border-bottom-color: var(--fill-color);\n",
              "    }\n",
              "    90% {\n",
              "      border-color: transparent;\n",
              "      border-bottom-color: var(--fill-color);\n",
              "    }\n",
              "  }\n",
              "</style>\n",
              "\n",
              "      <script>\n",
              "        async function quickchart(key) {\n",
              "          const quickchartButtonEl =\n",
              "            document.querySelector('#' + key + ' button');\n",
              "          quickchartButtonEl.disabled = true;  // To prevent multiple clicks.\n",
              "          quickchartButtonEl.classList.add('colab-df-spinner');\n",
              "          try {\n",
              "            const charts = await google.colab.kernel.invokeFunction(\n",
              "                'suggestCharts', [key], {});\n",
              "          } catch (error) {\n",
              "            console.error('Error during call to suggestCharts:', error);\n",
              "          }\n",
              "          quickchartButtonEl.classList.remove('colab-df-spinner');\n",
              "          quickchartButtonEl.classList.add('colab-df-quickchart-complete');\n",
              "        }\n",
              "        (() => {\n",
              "          let quickchartButtonEl =\n",
              "            document.querySelector('#df-574d8085-b9c7-434f-8af2-35b301db3f9e button');\n",
              "          quickchartButtonEl.style.display =\n",
              "            google.colab.kernel.accessAllowed ? 'block' : 'none';\n",
              "        })();\n",
              "      </script>\n",
              "    </div>\n",
              "\n",
              "    </div>\n",
              "  </div>\n"
            ],
            "application/vnd.google.colaboratory.intrinsic+json": {
              "type": "dataframe",
              "variable_name": "df",
              "summary": "{\n  \"name\": \"df\",\n  \"rows\": 65079,\n  \"fields\": [\n    {\n      \"column\": \"  userID\",\n      \"properties\": {\n        \"dtype\": \"string\",\n        \"num_unique_values\": 41748,\n        \"samples\": [\n          \"8ECFAD5A\",\n          \"64C7383F\",\n          \"4179A5A2\"\n        ],\n        \"semantic_type\": \"\",\n        \"description\": \"\"\n      }\n    },\n    {\n      \"column\": \"Track\",\n      \"properties\": {\n        \"dtype\": \"string\",\n        \"num_unique_values\": 39666,\n        \"samples\": [\n          \"Songs About Angels\",\n          \"Where Everything Ends\",\n          \"Comment tu vas ?\"\n        ],\n        \"semantic_type\": \"\",\n        \"description\": \"\"\n      }\n    },\n    {\n      \"column\": \"artist\",\n      \"properties\": {\n        \"dtype\": \"string\",\n        \"num_unique_values\": 37806,\n        \"samples\": [\n          \"The Bambi Molesters\",\n          \"Laberinto\",\n          \"New Bomb Turks\"\n        ],\n        \"semantic_type\": \"\",\n        \"description\": \"\"\n      }\n    },\n    {\n      \"column\": \"genre\",\n      \"properties\": {\n        \"dtype\": \"category\",\n        \"num_unique_values\": 268,\n        \"samples\": [\n          \"breakbeat\",\n          \"hardstyle\",\n          \"dnb\"\n        ],\n        \"semantic_type\": \"\",\n        \"description\": \"\"\n      }\n    },\n    {\n      \"column\": \"  City  \",\n      \"properties\": {\n        \"dtype\": \"category\",\n        \"num_unique_values\": 2,\n        \"samples\": [\n          \"Springfield\",\n          \"Shelbyville\"\n        ],\n        \"semantic_type\": \"\",\n        \"description\": \"\"\n      }\n    },\n    {\n      \"column\": \"time\",\n      \"properties\": {\n        \"dtype\": \"object\",\n        \"num_unique_values\": 20392,\n        \"samples\": [\n          \"20:48:00\",\n          \"09:55:02\"\n        ],\n        \"semantic_type\": \"\",\n        \"description\": \"\"\n      }\n    },\n    {\n      \"column\": \"Day\",\n      \"properties\": {\n        \"dtype\": \"category\",\n        \"num_unique_values\": 3,\n        \"samples\": [\n          \"Wednesday\",\n          \"Friday\"\n        ],\n        \"semantic_type\": \"\",\n        \"description\": \"\"\n      }\n    }\n  ]\n}"
            }
          },
          "metadata": {},
          "execution_count": 3
        }
      ],
      "source": [
        "# Obtén las 10 primeras filas de la tabla df\n",
        "df.head(10)"
      ]
    },
    {
      "cell_type": "markdown",
      "metadata": {
        "id": "EO73Kwic_Zct"
      },
      "source": [
        "Etapa 1.4. Obtén la información general sobre la tabla con el método info()."
      ]
    },
    {
      "cell_type": "code",
      "execution_count": null,
      "metadata": {
        "id": "DSf2kIb-_Zct",
        "outputId": "ef59230c-6b66-47bc-9d83-6298a7bd41a1",
        "colab": {
          "base_uri": "https://localhost:8080/"
        }
      },
      "outputs": [
        {
          "output_type": "stream",
          "name": "stdout",
          "text": [
            "<class 'pandas.core.frame.DataFrame'>\n",
            "RangeIndex: 65079 entries, 0 to 65078\n",
            "Data columns (total 7 columns):\n",
            " #   Column    Non-Null Count  Dtype \n",
            "---  ------    --------------  ----- \n",
            " 0     userID  65079 non-null  object\n",
            " 1   Track     63736 non-null  object\n",
            " 2   artist    57512 non-null  object\n",
            " 3   genre     63881 non-null  object\n",
            " 4     City    65079 non-null  object\n",
            " 5   time      65079 non-null  object\n",
            " 6   Day       65079 non-null  object\n",
            "dtypes: object(7)\n",
            "memory usage: 3.5+ MB\n",
            "None\n"
          ]
        }
      ],
      "source": [
        "# Obtén la información general sobre nuestros datos\n",
        "print(df.info())"
      ]
    },
    {
      "cell_type": "markdown",
      "metadata": {
        "id": "TaQ2Iwbr_Zct"
      },
      "source": [
        "Estas son nuestras observaciones sobre la tabla. Contiene siete columnas que almacenan los mismos tipos de datos: `object`.\n",
        "\n",
        "Según la documentación:\n",
        "- `' userID'`: identificador del usuario;\n",
        "- `'Track'`: título de la canción;\n",
        "- `'artist'`: nombre del artista;\n",
        "- `'genre'`: género de la canción;\n",
        "- `'City'`: ciudad del usuario;\n",
        "- `'time'`: la hora exacta en la que se reprodujo la canción;\n",
        "- `'Day'`: día de la semana.\n",
        "\n",
        "Podemos ver tres problemas con el estilo en los encabezados de la tabla:\n",
        "1. Algunos encabezados están en mayúsculas, otros en minúsculas.\n",
        "2. Hay espacios en algunos encabezados.\n",
        "3. No se utiliza algun estilo de escritura, ya sea CamelCase o snake_case\n",
        "\n",
        "\n"
      ]
    },
    {
      "cell_type": "markdown",
      "metadata": {
        "id": "MCB6-dXG_Zct"
      },
      "source": [
        "### Escribe algunas observaciones por tu parte. Contesta a las siguientes preguntas: <a id='data_review_conclusions'></a>\n",
        "\n",
        "`1.   ¿Qué tipo de datos hay en las filas? ¿Cómo podemos saber qué almacenan las columnas?`\n",
        "\n",
        "`2.   ¿Hay suficientes datos para proporcionar respuestas a nuestra hipótesis o necesitamos más información?`\n",
        "\n",
        "`3.   ¿Notaste algún problema en los datos, como valores ausentes, duplicados o tipos de datos incorrectos?`"
      ]
    },
    {
      "cell_type": "markdown",
      "metadata": {
        "id": "emewmQcy3m_F"
      },
      "source": [
        "Escribe aquí tus respuestas:\n",
        "\n",
        "1.\n",
        "\n",
        "2.\n",
        "\n",
        "3."
      ]
    },
    {
      "cell_type": "markdown",
      "metadata": {
        "id": "3eL__vcwViOi"
      },
      "source": [
        "[Volver a Contenidos](#back)"
      ]
    },
    {
      "cell_type": "markdown",
      "metadata": {
        "id": "SjYF6Ub9_Zct"
      },
      "source": [
        "## Etapa 2. Preprocesamiento de los datos <a id='data_preprocessing'></a>\n",
        "\n",
        "Tu objetivo aquí es preparar los datos para analizarlos.\n",
        "El primer paso es resolver los problemas con los encabezados. Después podemos avanzar a los valores ausentes y duplicados. ¡Empecemos!\n",
        "\n",
        "Vamos a corregir el formato en los encabezados de la tabla.\n"
      ]
    },
    {
      "cell_type": "markdown",
      "metadata": {
        "id": "dIaKXr29_Zct"
      },
      "source": [
        "### Estilo del encabezado <a id='header_style'></a>\n",
        "Etapa 2.1. Muestra los encabezados de la tabla (los nombres de las columnas):"
      ]
    },
    {
      "cell_type": "code",
      "execution_count": 15,
      "metadata": {
        "id": "oKOTdF_Q_Zct",
        "outputId": "c58c7458-5c8d-4a99-da37-d26915da18ac",
        "colab": {
          "base_uri": "https://localhost:8080/"
        }
      },
      "outputs": [
        {
          "output_type": "stream",
          "name": "stdout",
          "text": [
            "Index(['  userID', 'Track', 'artist', 'genre', '  City  ', 'time', 'Day'], dtype='object')\n"
          ]
        }
      ],
      "source": [
        "# Muestra los nombres de las columnas\n",
        "print(df.columns)"
      ]
    },
    {
      "cell_type": "markdown",
      "metadata": {
        "id": "zj5534cv_Zct"
      },
      "source": [
        "Vamos cambiar los encabezados de la tabla siguiendo las reglas estilísticas convencionales:\n",
        "*   Todos los caracteres deben ser minúsculas.\n",
        "*   Elimina los espacios.\n",
        "*   Si el nombre tiene varias palabras, utiliza snake_case.\n"
      ]
    },
    {
      "cell_type": "markdown",
      "metadata": {
        "id": "Xu0zkfe5zNJe"
      },
      "source": [
        "Anteriormente, aprendiste una forma automática de cambiar el nombre de las columnas. Vamos a aplicarla ahora.\n",
        "\n",
        "Etapa 2.2. Utiliza el bucle for para iterar sobre los nombres de las columnas y poner todos los caracteres en minúsculas. Cuando hayas terminado, vuelve a mostrar los encabezados de la tabla:"
      ]
    },
    {
      "cell_type": "code",
      "execution_count": 16,
      "metadata": {
        "id": "6I_RwwMhzM4e",
        "outputId": "e846a512-8e43-4d12-d840-1d20ea2e808e",
        "colab": {
          "base_uri": "https://localhost:8080/"
        }
      },
      "outputs": [
        {
          "output_type": "stream",
          "name": "stdout",
          "text": [
            "Index(['  userid', 'track', 'artist', 'genre', '  city  ', 'time', 'day'], dtype='object')\n"
          ]
        }
      ],
      "source": [
        "# Bucle en los encabezados que lo pone todo en minúsculas\n",
        "for col in df.columns:\n",
        "    df.rename(columns={col: col.lower()}, inplace=True)\n",
        "\n",
        "# Muestra los nombres de las columnas\n",
        "print(df.columns)"
      ]
    },
    {
      "cell_type": "markdown",
      "metadata": {
        "id": "pweIRxjSzPYW"
      },
      "source": [
        "Etapa 2.3. Ahora, utilizando el mismo método, elimina los espacios al principio y al final de los nombres de las columnas y muestra los nombres de las columnas de nuevo:"
      ]
    },
    {
      "cell_type": "code",
      "execution_count": 17,
      "metadata": {
        "id": "vVQXbFyJzSYl",
        "outputId": "4d3d138e-224c-4da8-d1b8-33e4dbf8721d",
        "colab": {
          "base_uri": "https://localhost:8080/"
        }
      },
      "outputs": [
        {
          "output_type": "stream",
          "name": "stdout",
          "text": [
            "Index(['userid', 'track', 'artist', 'genre', 'city', 'time', 'day'], dtype='object')\n"
          ]
        }
      ],
      "source": [
        "# Bucle en los encabezados que elimina los espacios\n",
        "for col in df.columns:\n",
        "    df.rename(columns={col: col.strip()}, inplace=True)\n",
        "\n",
        "# Muestra los nombres de las columnas\n",
        "print(df.columns)"
      ]
    },
    {
      "cell_type": "markdown",
      "metadata": {
        "id": "yCb8MW1JzURd"
      },
      "source": [
        "Etapa 2.4. Necesitamos aplicar la regla de snake_case en la columna `userid`. Debe ser `user_id`. Cambia el nombre de esta columna y muestra los nombres de todas las columnas cuando hayas terminado."
      ]
    },
    {
      "cell_type": "code",
      "execution_count": 18,
      "metadata": {
        "id": "ISlFqs5y_Zct",
        "outputId": "536762e9-b954-47f1-da27-324cabd03f54",
        "colab": {
          "base_uri": "https://localhost:8080/"
        }
      },
      "outputs": [
        {
          "output_type": "stream",
          "name": "stdout",
          "text": [
            "Index(['user_id', 'track', 'artist', 'genre', 'city', 'time', 'day'], dtype='object')\n"
          ]
        }
      ],
      "source": [
        "# Cambia el nombre de la columna \"userid\"\n",
        "df.rename(columns={'userid': 'user_id'}, inplace=True)\n",
        "\n",
        "# Muestra los nombres de las columnas\n",
        "print(df.columns)"
      ]
    },
    {
      "cell_type": "markdown",
      "metadata": {
        "id": "1dqbh00J_Zct"
      },
      "source": [
        "Etapa 2.5. Comprueba el resultado. Muestra los encabezados una vez más:"
      ]
    },
    {
      "cell_type": "code",
      "execution_count": 19,
      "metadata": {
        "id": "d4NOAmTW_Zct",
        "outputId": "420cc9b0-4b46-4dde-c6b0-92c5f5127dd2",
        "colab": {
          "base_uri": "https://localhost:8080/"
        }
      },
      "outputs": [
        {
          "output_type": "stream",
          "name": "stdout",
          "text": [
            "Index(['user_id', 'track', 'artist', 'genre', 'city', 'time', 'day'], dtype='object')\n"
          ]
        }
      ],
      "source": [
        "# Comprueba el resultado: lista de encabezados\n",
        "print(df.columns)"
      ]
    },
    {
      "cell_type": "markdown",
      "metadata": {
        "id": "xYJk6ksJVpOl"
      },
      "source": [
        "[Volver a Contenidos](#back)"
      ]
    },
    {
      "cell_type": "markdown",
      "metadata": {
        "id": "5ISfbcfY_Zct"
      },
      "source": [
        "### Valores ausentes <a id='missing_values'></a>\n",
        " Etapa 2.5. Primero, encuentra el número de valores ausentes en la tabla. Debes utilizar dos métodos para obtener el número de valores ausentes."
      ]
    },
    {
      "cell_type": "code",
      "execution_count": 23,
      "metadata": {
        "id": "RskX29qr_Zct",
        "outputId": "d5ad2686-dc5a-4e7a-f816-97ee08bfee04",
        "colab": {
          "base_uri": "https://localhost:8080/"
        }
      },
      "outputs": [
        {
          "output_type": "stream",
          "name": "stdout",
          "text": [
            "user_id       0\n",
            "track      1343\n",
            "artist     7567\n",
            "genre      1198\n",
            "city          0\n",
            "time          0\n",
            "day           0\n",
            "dtype: int64\n",
            "\n",
            "user_id       0\n",
            "track      1343\n",
            "artist     7567\n",
            "genre      1198\n",
            "city          0\n",
            "time          0\n",
            "day           0\n",
            "dtype: int64\n"
          ]
        }
      ],
      "source": [
        "# Calcula el número de valores ausentes\n",
        "print(df.isnull().sum())\n",
        "print()\n",
        "print(df.isna().sum())"
      ]
    },
    {
      "cell_type": "markdown",
      "metadata": {
        "id": "qubhgnlO_Zct"
      },
      "source": [
        "No todos los valores ausentes afectan de la misma forma a la investigación. Por ejemplo, los valores ausentes en 'track' y 'artist' no son cruciales para el análisis, ya que estos datos son más descriptivos que analíticos. Por eso, puedes reemplazarlos directamente con un valor predeterminado como el string 'unknown' (desconocido)."
      ]
    },
    {
      "cell_type": "markdown",
      "metadata": {
        "id": "gzJd_997466T"
      },
      "source": [
        "En cambio, los valores ausentes en 'genre' sí pueden influir en la comparación entre las preferencias musicales de Springfield y Shelbyville. En un escenario real, lo ideal sería investigar por qué faltan estos datos e intentar recuperarlos. Pero en este proyecto no tenemos esa posibilidad, así que deberás rellenar esos valores con un valor predeterminado.\n"
      ]
    },
    {
      "cell_type": "markdown",
      "metadata": {
        "id": "5IzUHGWE5Els"
      },
      "source": [
        "Como vimos anteriormente en las lecciones, la mejor manera de hacerlo es crear una lista con los nombres de las columnas que necesitan reemplazarse.  Luego, utilizar esta lista para iterar sobre cada columna y realizar el reemplazo correspondiente."
      ]
    },
    {
      "cell_type": "markdown",
      "metadata": {
        "id": "fSv2laPA_Zct"
      },
      "source": [
        "Etapa 2.6. Sustituye los valores ausentes en las columnas `'track'`, `'artist'` y `'genre'` con el string `'unknown'`.\n",
        "\n",
        "1. Crea una lista llamada columns_to_replace que contenga los nombres de las columnas 'track', 'artist' y 'genre'.\n",
        "\n",
        "2. Usa un bucle for para iterar sobre cada columna en columns_to_replace.\n",
        "\n",
        "3. Dentro del bucle, sustituye los valores ausentes en cada columna con el string `'unknown'`."
      ]
    },
    {
      "cell_type": "code",
      "execution_count": 25,
      "metadata": {
        "id": "KplB5qWs_Zct"
      },
      "outputs": [],
      "source": [
        "# Bucle en los encabezados reemplazando los valores ausentes con 'unknown'\n",
        "columns_to_replace = ['track', 'artist', 'genre']\n",
        "\n",
        "for col in columns_to_replace:\n",
        "    df[col].fillna('unknown', inplace=True)"
      ]
    },
    {
      "cell_type": "markdown",
      "metadata": {
        "id": "Ilsm-MZo_Zct"
      },
      "source": [
        "Etapa 2.7. Ahora comprueba el resultado para asegurarte de que no falten valores ausentes por reemplazar en el conjunto de datos. Para ello, cuenta los valores ausentes una vez más."
      ]
    },
    {
      "cell_type": "code",
      "execution_count": 27,
      "metadata": {
        "id": "Tq4nYRX4_Zct",
        "outputId": "c211bc8b-fd9c-4b53-cf18-ea07b04b4ae7",
        "colab": {
          "base_uri": "https://localhost:8080/"
        }
      },
      "outputs": [
        {
          "output_type": "stream",
          "name": "stdout",
          "text": [
            "user_id    0\n",
            "track      0\n",
            "artist     0\n",
            "genre      0\n",
            "city       0\n",
            "time       0\n",
            "day        0\n",
            "dtype: int64\n",
            "\n",
            "user_id    0\n",
            "track      0\n",
            "artist     0\n",
            "genre      0\n",
            "city       0\n",
            "time       0\n",
            "day        0\n",
            "dtype: int64\n"
          ]
        }
      ],
      "source": [
        "# Cuenta los valores ausentes\n",
        "print(df.isnull().sum())\n",
        "print()\n",
        "print(df.isna().sum())"
      ]
    },
    {
      "cell_type": "markdown",
      "metadata": {
        "id": "74ZIBmq9VrsK"
      },
      "source": [
        "[Volver a Contenidos](#back)"
      ]
    },
    {
      "cell_type": "markdown",
      "metadata": {
        "id": "BWKRtBJ3_Zct"
      },
      "source": [
        "### Duplicados <a id='duplicates'></a>\n",
        "Etapa 2.8. Encuentra el número de duplicados explícitos en la tabla. Una vez más, debes aplicar dos métodos para obtener la cantidad de duplicados explícitos."
      ]
    },
    {
      "cell_type": "code",
      "execution_count": 28,
      "metadata": {
        "id": "36eES_S0_Zct",
        "outputId": "7643ec8b-ad7d-45a6-c572-8d9bfafdc498",
        "colab": {
          "base_uri": "https://localhost:8080/"
        }
      },
      "outputs": [
        {
          "output_type": "stream",
          "name": "stdout",
          "text": [
            "3826\n"
          ]
        }
      ],
      "source": [
        "# Cuenta los duplicados explícitos\n",
        "print(df.duplicated().sum())"
      ]
    },
    {
      "cell_type": "markdown",
      "metadata": {
        "id": "Ot25h6XR_Zct"
      },
      "source": [
        "Etapa 2.9. Ahora, elimina todos los duplicados. Para ello, llama al método que hace exactamente esto."
      ]
    },
    {
      "cell_type": "code",
      "execution_count": 29,
      "metadata": {
        "id": "exFHq6tt_Zct"
      },
      "outputs": [],
      "source": [
        "# Elimina los duplicados explícitos\n",
        "df.drop_duplicates(inplace=True)"
      ]
    },
    {
      "cell_type": "markdown",
      "metadata": {
        "id": "Im2YwBEG_Zct"
      },
      "source": [
        "Etapa 2.10. Comprobemos ahora si conseguimos eliminar todos los duplicados. Cuenta los duplicados explícitos una vez más para asegurarte de haberlos eliminado todos:"
      ]
    },
    {
      "cell_type": "code",
      "execution_count": 30,
      "metadata": {
        "id": "-8PuNWQ0_Zct",
        "outputId": "5e109104-cd83-43c0-d5c3-ec057849fa13",
        "colab": {
          "base_uri": "https://localhost:8080/"
        }
      },
      "outputs": [
        {
          "output_type": "stream",
          "name": "stdout",
          "text": [
            "0\n"
          ]
        }
      ],
      "source": [
        "# Comprueba de nuevo si hay duplicados\n",
        "print(df.duplicated().sum())"
      ]
    },
    {
      "cell_type": "markdown",
      "metadata": {
        "id": "QlFBsxAr_Zct"
      },
      "source": [
        "Ahora queremos deshacernos de los duplicados implícitos en la columna `genre`. Por ejemplo, el nombre de un género se puede escribir de varias formas. Dichos errores también pueden afectar al resultado."
      ]
    },
    {
      "cell_type": "markdown",
      "metadata": {
        "id": "eSjWwsOh_Zct"
      },
      "source": [
        "Etapa 2.11. Primero debemos mostrar una lista de nombres de géneros únicos, por orden alfabético. Para ello:\n",
        "1. Extrae la columna `genre` del DataFrame.\n",
        "2. Llama al método que devolverá todos los valores únicos en la columna extraída.\n"
      ]
    },
    {
      "cell_type": "code",
      "execution_count": 31,
      "metadata": {
        "id": "JIUcqzZN_Zct",
        "outputId": "ab2580ff-ee2c-4943-b015-f3cf3f064a93",
        "colab": {
          "base_uri": "https://localhost:8080/"
        }
      },
      "outputs": [
        {
          "output_type": "stream",
          "name": "stdout",
          "text": [
            "['rock' 'pop' 'folk' 'dance' 'rusrap' 'ruspop' 'world' 'electronic'\n",
            " 'unknown' 'alternative' 'children' 'rnb' 'hip' 'jazz' 'postrock' 'latin'\n",
            " 'classical' 'metal' 'reggae' 'triphop' 'blues' 'instrumental' 'rusrock'\n",
            " 'dnb' 'türk' 'post' 'country' 'psychedelic' 'conjazz' 'indie'\n",
            " 'posthardcore' 'local' 'avantgarde' 'punk' 'videogame' 'techno' 'house'\n",
            " 'christmas' 'melodic' 'caucasian' 'reggaeton' 'soundtrack' 'singer' 'ska'\n",
            " 'salsa' 'ambient' 'film' 'western' 'rap' 'beats' \"hard'n'heavy\"\n",
            " 'progmetal' 'minimal' 'tropical' 'contemporary' 'new' 'soul' 'holiday'\n",
            " 'german' 'jpop' 'spiritual' 'urban' 'gospel' 'nujazz' 'folkmetal'\n",
            " 'trance' 'miscellaneous' 'anime' 'hardcore' 'progressive' 'korean'\n",
            " 'numetal' 'vocal' 'estrada' 'tango' 'loungeelectronic' 'classicmetal'\n",
            " 'dubstep' 'club' 'deep' 'southern' 'black' 'folkrock' 'fitness' 'french'\n",
            " 'disco' 'religious' 'hiphop' 'drum' 'extrememetal' 'türkçe'\n",
            " 'experimental' 'easy' 'metalcore' 'modern' 'argentinetango' 'old' 'swing'\n",
            " 'breaks' 'eurofolk' 'stonerrock' 'industrial' 'funk' 'middle' 'variété'\n",
            " 'other' 'adult' 'christian' 'thrash' 'gothic' 'international' 'muslim'\n",
            " 'relax' 'schlager' 'caribbean' 'nu' 'breakbeat' 'comedy' 'chill' 'newage'\n",
            " 'specialty' 'uzbek' 'k-pop' 'balkan' 'chinese' 'meditative' 'dub' 'power'\n",
            " 'death' 'grime' 'arabesk' 'romance' 'flamenco' 'leftfield' 'european'\n",
            " 'tech' 'newwave' 'dancehall' 'mpb' 'piano' 'top' 'bigroom' 'opera'\n",
            " 'celtic' 'tradjazz' 'acoustic' 'epicmetal' 'hip-hop' 'historisch'\n",
            " 'downbeat' 'downtempo' 'africa' 'audiobook' 'jewish' 'sängerportrait'\n",
            " 'deutschrock' 'eastern' 'action' 'future' 'electropop' 'folklore'\n",
            " 'bollywood' 'marschmusik' 'rnr' 'karaoke' 'indian' 'rancheras'\n",
            " 'afrikaans' 'rhythm' 'sound' 'deutschspr' 'trip' 'lovers' 'choral'\n",
            " 'dancepop' 'retro' 'smooth' 'mexican' 'brazilian' 'ïîï' 'mood' 'surf'\n",
            " 'gangsta' 'inspirational' 'idm' 'ethnic' 'bluegrass' 'broadway'\n",
            " 'animated' 'americana' 'karadeniz' 'rockabilly' 'colombian' 'self' 'hop'\n",
            " 'sertanejo' 'japanese' 'canzone' 'lounge' 'sport' 'ragga' 'traditional'\n",
            " 'gitarre' 'frankreich' 'emo' 'laiko' 'cantopop' 'glitch' 'documentary'\n",
            " 'oceania' 'popeurodance' 'dark' 'vi' 'grunge' 'hardstyle' 'samba'\n",
            " 'garage' 'art' 'folktronica' 'entehno' 'mediterranean' 'chamber' 'cuban'\n",
            " 'taraftar' 'gypsy' 'hardtechno' 'shoegazing' 'bossa' 'latino' 'worldbeat'\n",
            " 'malaysian' 'baile' 'ghazal' 'arabic' 'popelectronic' 'acid' 'kayokyoku'\n",
            " 'neoklassik' 'tribal' 'tanzorchester' 'native' 'independent' 'cantautori'\n",
            " 'handsup' 'punjabi' 'synthpop' 'rave' 'französisch' 'quebecois' 'speech'\n",
            " 'soulful' 'jam' 'ram' 'horror' 'orchestral' 'neue' 'roots' 'slow'\n",
            " 'jungle' 'indipop' 'axé' 'fado' 'showtunes' 'arena' 'irish' 'mandopop'\n",
            " 'forró' 'dirty' 'regional']\n"
          ]
        }
      ],
      "source": [
        "# Inspecciona los nombres de géneros únicos\n",
        "print(df['genre'].unique())"
      ]
    },
    {
      "cell_type": "markdown",
      "metadata": {
        "id": "qej-Qmuo_Zct"
      },
      "source": [
        "Vamos a examinar la lista para identificar **duplicados implícitos** del género `hiphop`, es decir, nombres mal escritos o variantes que hacen referencia al mismo género musical.\n",
        "\n",
        "Algunos de los duplicados que encontrarás son:\n",
        "\n",
        "* `hip`  \n",
        "* `hop`  \n",
        "* `hip-hop`  \n",
        "\n",
        "Para solucionarlo, vamos a crear una función llamada `replace_wrong_genres()` que tendrá dos parámetros:\n",
        "\n",
        "* `wrong_genres`: una lista con todos los valores que deben ser reemplazados.  \n",
        "* `correct_genre`: un string que se utilizará como valor de reemplazo.\n",
        "\n",
        "El objetivo de esta función es **corregir los valores en la columna `'genre'` del DataFrame `df`**, reemplazando cada valor de la lista `wrong_genres` por `correct_genre`."
      ]
    },
    {
      "cell_type": "markdown",
      "metadata": {
        "id": "7kmujhjP_bIl"
      },
      "source": [
        "Etapa 2.12.\n",
        "1. Define una función llamada `replace_wrong_genres()` que reciba dos parámetros: `wrong_genres` y `correct_genre`.\n",
        "\n",
        "2. Dentro de la función, utiliza un bucle `for` para iterar sobre cada valor en la lista `wrong_genres`.\n",
        "\n",
        "3. En cada iteración, accede a la columna `'genre'` del DataFrame `df` y utiliza el método `.replace()` para sustituir el valor incorrecto por `correct_genre`.\n",
        "\n",
        "4. Llama a la función y pasa como argumentos:\n",
        "   - Una lista con los duplicados implícitos: `['hip', 'hop', 'hip-hop']`\n",
        "   - El string de reemplazo: `'hiphop'`"
      ]
    },
    {
      "cell_type": "code",
      "execution_count": 32,
      "metadata": {
        "id": "ErNDkmns_Zct"
      },
      "outputs": [],
      "source": [
        "# Función para reemplazar los duplicados implícitos\n",
        "def replace_wrong_genres(wrong_genres, correct_genre):\n",
        "    for wrong_genre in wrong_genres:\n",
        "        df['genre'].replace(wrong_genre, correct_genre, inplace=True)"
      ]
    },
    {
      "cell_type": "markdown",
      "metadata": {
        "id": "aDoBJxbA_Zct"
      },
      "source": [
        "Etapa 2.13. Ahora, llama a `replace_wrong_genres()` y pásale estos argumentos para que retire los duplicados implícitos (`hip`, `hop` y `hip-hop`) y los sustituya por `hiphop`:"
      ]
    },
    {
      "cell_type": "code",
      "execution_count": 33,
      "metadata": {
        "id": "YN5i2hpmSo09",
        "outputId": "25a33920-2953-4759-92e9-dbdff9eefcba",
        "colab": {
          "base_uri": "https://localhost:8080/"
        }
      },
      "outputs": [
        {
          "output_type": "stream",
          "name": "stderr",
          "text": [
            "<ipython-input-32-26286fd4ef45>:4: FutureWarning: A value is trying to be set on a copy of a DataFrame or Series through chained assignment using an inplace method.\n",
            "The behavior will change in pandas 3.0. This inplace method will never work because the intermediate object on which we are setting values always behaves as a copy.\n",
            "\n",
            "For example, when doing 'df[col].method(value, inplace=True)', try using 'df.method({col: value}, inplace=True)' or df[col] = df[col].method(value) instead, to perform the operation inplace on the original object.\n",
            "\n",
            "\n",
            "  df['genre'].replace(wrong_genre, correct_genre, inplace=True)\n"
          ]
        }
      ],
      "source": [
        "# Elimina los duplicados implícitos\n",
        "\n",
        "replace_wrong_genres(['hip', 'hop', 'hip-hop'], 'hiphop')"
      ]
    },
    {
      "cell_type": "markdown",
      "metadata": {
        "id": "zQKF16_RG15m"
      },
      "source": [
        "Etapa 2.14. Asegúrate de que los nombres duplicados se hayan eliminado. Muestra la lista de valores únicos de la columna `'genre'` una vez más:"
      ]
    },
    {
      "cell_type": "code",
      "execution_count": 36,
      "metadata": {
        "id": "wvixALnFG15m",
        "outputId": "8a85af46-b077-47cc-f876-2e142750db3d",
        "colab": {
          "base_uri": "https://localhost:8080/"
        }
      },
      "outputs": [
        {
          "output_type": "stream",
          "name": "stdout",
          "text": [
            "['rock' 'pop' 'folk' 'dance' 'rusrap' 'ruspop' 'world' 'electronic'\n",
            " 'unknown' 'alternative' 'children' 'rnb' 'hiphop' 'jazz' 'postrock'\n",
            " 'latin' 'classical' 'metal' 'reggae' 'triphop' 'blues' 'instrumental'\n",
            " 'rusrock' 'dnb' 'türk' 'post' 'country' 'psychedelic' 'conjazz' 'indie'\n",
            " 'posthardcore' 'local' 'avantgarde' 'punk' 'videogame' 'techno' 'house'\n",
            " 'christmas' 'melodic' 'caucasian' 'reggaeton' 'soundtrack' 'singer' 'ska'\n",
            " 'salsa' 'ambient' 'film' 'western' 'rap' 'beats' \"hard'n'heavy\"\n",
            " 'progmetal' 'minimal' 'tropical' 'contemporary' 'new' 'soul' 'holiday'\n",
            " 'german' 'jpop' 'spiritual' 'urban' 'gospel' 'nujazz' 'folkmetal'\n",
            " 'trance' 'miscellaneous' 'anime' 'hardcore' 'progressive' 'korean'\n",
            " 'numetal' 'vocal' 'estrada' 'tango' 'loungeelectronic' 'classicmetal'\n",
            " 'dubstep' 'club' 'deep' 'southern' 'black' 'folkrock' 'fitness' 'french'\n",
            " 'disco' 'religious' 'drum' 'extrememetal' 'türkçe' 'experimental' 'easy'\n",
            " 'metalcore' 'modern' 'argentinetango' 'old' 'swing' 'breaks' 'eurofolk'\n",
            " 'stonerrock' 'industrial' 'funk' 'middle' 'variété' 'other' 'adult'\n",
            " 'christian' 'thrash' 'gothic' 'international' 'muslim' 'relax' 'schlager'\n",
            " 'caribbean' 'nu' 'breakbeat' 'comedy' 'chill' 'newage' 'specialty'\n",
            " 'uzbek' 'k-pop' 'balkan' 'chinese' 'meditative' 'dub' 'power' 'death'\n",
            " 'grime' 'arabesk' 'romance' 'flamenco' 'leftfield' 'european' 'tech'\n",
            " 'newwave' 'dancehall' 'mpb' 'piano' 'top' 'bigroom' 'opera' 'celtic'\n",
            " 'tradjazz' 'acoustic' 'epicmetal' 'historisch' 'downbeat' 'downtempo'\n",
            " 'africa' 'audiobook' 'jewish' 'sängerportrait' 'deutschrock' 'eastern'\n",
            " 'action' 'future' 'electropop' 'folklore' 'bollywood' 'marschmusik' 'rnr'\n",
            " 'karaoke' 'indian' 'rancheras' 'afrikaans' 'rhythm' 'sound' 'deutschspr'\n",
            " 'trip' 'lovers' 'choral' 'dancepop' 'retro' 'smooth' 'mexican'\n",
            " 'brazilian' 'ïîï' 'mood' 'surf' 'gangsta' 'inspirational' 'idm' 'ethnic'\n",
            " 'bluegrass' 'broadway' 'animated' 'americana' 'karadeniz' 'rockabilly'\n",
            " 'colombian' 'self' 'sertanejo' 'japanese' 'canzone' 'lounge' 'sport'\n",
            " 'ragga' 'traditional' 'gitarre' 'frankreich' 'emo' 'laiko' 'cantopop'\n",
            " 'glitch' 'documentary' 'oceania' 'popeurodance' 'dark' 'vi' 'grunge'\n",
            " 'hardstyle' 'samba' 'garage' 'art' 'folktronica' 'entehno'\n",
            " 'mediterranean' 'chamber' 'cuban' 'taraftar' 'gypsy' 'hardtechno'\n",
            " 'shoegazing' 'bossa' 'latino' 'worldbeat' 'malaysian' 'baile' 'ghazal'\n",
            " 'arabic' 'popelectronic' 'acid' 'kayokyoku' 'neoklassik' 'tribal'\n",
            " 'tanzorchester' 'native' 'independent' 'cantautori' 'handsup' 'punjabi'\n",
            " 'synthpop' 'rave' 'französisch' 'quebecois' 'speech' 'soulful' 'jam'\n",
            " 'ram' 'horror' 'orchestral' 'neue' 'roots' 'slow' 'jungle' 'indipop'\n",
            " 'axé' 'fado' 'showtunes' 'arena' 'irish' 'mandopop' 'forró' 'dirty'\n",
            " 'regional']\n"
          ]
        }
      ],
      "source": [
        "# Comprueba de nuevo los duplicados implícitos\n",
        "print(df['genre'].unique())"
      ]
    },
    {
      "cell_type": "markdown",
      "metadata": {
        "id": "ALgNbvF3VtPA"
      },
      "source": [
        "[Volver a Contenidos](#back)"
      ]
    },
    {
      "cell_type": "markdown",
      "metadata": {
        "id": "jz6a9-7HQUDd"
      },
      "source": [
        "### Observaciones <a id='data_preprocessing_conclusions'></a>\n",
        "\n",
        "`Redacta un breve resumen de lo que descubriste al analizar los datos. Tu respuesta debe identificar los problemas detectados, explicar cómo los resolviste y describir cómo esas acciones mejoran la calidad del análisis.`"
      ]
    },
    {
      "cell_type": "markdown",
      "metadata": {
        "id": "lN8zFHxhAF5O"
      },
      "source": [
        "Etapa 2.14. Descríbelo aquí.\n",
        "\n"
      ]
    },
    {
      "cell_type": "markdown",
      "metadata": {
        "id": "eK1es74rVujj"
      },
      "source": [
        "[Volver a Contenidos](#back)"
      ]
    },
    {
      "cell_type": "markdown",
      "metadata": {
        "id": "WttZHXH0SqKk"
      },
      "source": [
        "## Etapa 3. Prueba de la hipótesis <a id='hypothesis'></a>"
      ]
    },
    {
      "cell_type": "markdown",
      "metadata": {
        "id": "Im936VVi_Zcu"
      },
      "source": [
        "### Tarea: Comparar el comportamiento de los usuarios en las dos ciudades <a id='activity'></a>"
      ]
    },
    {
      "cell_type": "markdown",
      "metadata": {
        "id": "nwt_MuaL_Zcu"
      },
      "source": [
        "La hipótesis que queremos probar plantea que existen diferencias en la forma en que los usuarios de Springfield y Shelbyville consumen música.\n",
        "Para analizar esto, nos enfocaremos en los datos correspondientes a tres días específicos de la semana: lunes, miércoles y viernes."
      ]
    },
    {
      "cell_type": "markdown",
      "metadata": {
        "id": "8Dw_YMmT_Zcu"
      },
      "source": [
        "El análisis consistirá en comparar la cantidad de canciones reproducidas por los usuarios de cada ciudad en esos días. Esto nos permitirá observar posibles patrones o diferencias en los hábitos de consumo entre Springfield y Shelbyville.\n",
        "\n",
        "Para llevar a cabo este análisis, es importante seguir el enfoque de dividir-aplicar-combinar, del que ya hablamos en la lección. En este caso:\n",
        "\n",
        "*  Dividir: separamos los datos en grupos según la ciudad.\n",
        "\n",
        "*  Aplicar: dentro de cada grupo, contamos cuántas canciones se reprodujeron.\n",
        "\n",
        "*  Combinar: reunimos los resultados en una estructura que nos permita comparar fácilmente ambas ciudades."
      ]
    },
    {
      "cell_type": "markdown",
      "metadata": {
        "id": "c0MoTnZcB-hW"
      },
      "source": [
        "Este procedimiento debe repetirse de forma independiente para cada uno de los tres días seleccionados. El resultado final debe mostrar el número de reproducciones por ciudad en cada uno de esos días.\n",
        "\n",
        "Una posible forma de estructurar el código sería con la siguiente expresión:\n",
        "\n",
        "`df.groupby(by='...')['...'].method()`\n",
        "\n",
        "Deberás completar los argumentos correspondientes para agrupar por ciudad y contar las canciones reproducidas. Este enfoque te dará una visión clara y comparativa del comportamiento de los usuarios en ambas ciudades."
      ]
    },
    {
      "cell_type": "markdown",
      "metadata": {
        "id": "dgMGeLF2CMJv"
      },
      "source": [
        "Etapa 3.1. Cuenta cuántas canciones se reprodujeron en cada ciudad utilizando la columna 'track' como referencia."
      ]
    },
    {
      "cell_type": "code",
      "execution_count": null,
      "metadata": {
        "id": "0_Qs96oh_Zcu"
      },
      "outputs": [],
      "source": [
        "# Cuenta las canciones reproducidas en cada ciudad\n"
      ]
    },
    {
      "cell_type": "markdown",
      "metadata": {
        "id": "cC2tNrlL_Zcu"
      },
      "source": [
        "`Redacta brevemente tus observaciones sobre los resultados. ¿Qué diferencias notaste entre Springfield y Shelbyville? ¿A qué podrían deberse esas diferencias?`"
      ]
    },
    {
      "cell_type": "markdown",
      "metadata": {
        "id": "Kjb4vX38DC3I"
      },
      "source": [
        "Etapa 3.2. Escribe tus observaciones aquí."
      ]
    },
    {
      "cell_type": "markdown",
      "metadata": {
        "id": "dzli3w8o_Zcu"
      },
      "source": [
        "Etapa 3.3.\n",
        "1. Agrupa los datos por día de la semana y cuenta cuántas canciones se reprodujeron los lunes, miércoles y viernes.\n",
        "\n",
        "2. Utiliza el mismo método de conteo que antes, pero ahora cambia la columna de agrupación para enfocarte en el día.\n",
        "\n",
        "3. Esto te permitirá identificar posibles patrones de escucha según el día de la semana.\n"
      ]
    },
    {
      "cell_type": "code",
      "execution_count": null,
      "metadata": {
        "id": "uZMKjiJz_Zcu"
      },
      "outputs": [],
      "source": [
        "# Calcula las canciones reproducidas en cada uno de los tres días\n"
      ]
    },
    {
      "cell_type": "markdown",
      "metadata": {
        "id": "t_Qx-3NewAnK"
      },
      "source": [
        "`Describe brevemente qué observaste al comparar los lunes, miércoles y viernes. ¿Hubo algún día con menos actividad? ¿Cambian las conclusiones si analizas cada ciudad por separado?`"
      ]
    },
    {
      "cell_type": "markdown",
      "metadata": {
        "id": "q537Zl8oDNfH"
      },
      "source": [
        "Etapa 3.4. Escribe tus observaciones aquí."
      ]
    },
    {
      "cell_type": "markdown",
      "metadata": {
        "id": "POzs8bGa_Zcu"
      },
      "source": [
        "Hasta ahora has aprendido a contar entradas agrupándolas por un solo criterio, como la ciudad o el día de la semana. Ahora vamos a dar un paso más: necesitas crear una función que **cuente cuántas canciones se reprodujeron en una ciudad específica durante un día determinado**, combinando ambos criterios de filtrado.\n",
        "\n",
        "La función se llamará `number_tracks()` y debe aceptar dos parámetros:\n",
        "\n",
        "- `day`: un día de la semana (por ejemplo, `'Monday'`).\n",
        "- `city`: el nombre de una ciudad (por ejemplo, `'Springfield'`).\n",
        "\n",
        "Dentro de la función, deberás aplicar un **filtrado secuencial mediante indexación lógica**: primero tendrás que filtrar el DataFrame por el día, y luego por la ciudad. Una vez que tengas el subconjunto de datos correcto, debes contar cuántas veces aparece un valor en la columna `'user_id'`. Ese número representará el total de canciones reproducidas bajo esos dos criterios.\n",
        "\n"
      ]
    },
    {
      "cell_type": "markdown",
      "metadata": {
        "id": "itD2P5lhEpuX"
      },
      "source": [
        "Etapa 3.5.\n",
        "1. Declara una función llamada `number_tracks()` con dos parámetros: `day` y `city`.\n",
        "\n",
        "2. Filtra el DataFrame para conservar solo las filas donde la columna `'day'` sea igual al valor del parámetro `day`.\n",
        "\n",
        "3. A partir del resultado anterior, filtra nuevamente para conservar solo las filas donde la columna `'city'` sea igual al valor del parámetro `city`.\n",
        "\n",
        "4. Extrae la columna `'user_id'` del DataFrame filtrado y utiliza el método `.count()` para contar el número de entradas.\n",
        "\n",
        "5. Guarda ese valor en una variable y **devuélvelo** como resultado de la función.\n"
      ]
    },
    {
      "cell_type": "code",
      "execution_count": null,
      "metadata": {
        "id": "Nz3GdQB1_Zcu"
      },
      "outputs": [],
      "source": [
        "# Declara la función number_tracks() con dos parámetros: day= y city=.\n",
        "\n",
        "    # Almacena las filas del DataFrame donde el valor en la columna 'day' es igual al parámetro day=\n",
        "\n",
        "    # Filtra las filas donde el valor en la columna 'city' es igual al parámetro city=\n",
        "\n",
        "    # Extrae la columna 'user_id' de la tabla filtrada y aplica el método count()\n",
        "\n",
        "    # Devuelve el número de valores de la columna 'user_id'"
      ]
    },
    {
      "cell_type": "markdown",
      "metadata": {
        "id": "ytf7xFrFJQ2r"
      },
      "source": [
        "Etapa 3.6. Llama a `number_tracks()` seis veces, cambiando los valores de los parámetros para que puedas recuperar los datos de ambas ciudades para cada uno de los tres días."
      ]
    },
    {
      "cell_type": "code",
      "execution_count": null,
      "metadata": {
        "id": "rJcRATNQ_Zcu"
      },
      "outputs": [],
      "source": [
        "# El número de canciones reproducidas en Springfield el lunes\n"
      ]
    },
    {
      "cell_type": "code",
      "execution_count": null,
      "metadata": {
        "id": "hq_ncZ5T_Zcu"
      },
      "outputs": [],
      "source": [
        "# El número de canciones reproducidas en Shelbyville el lunes\n"
      ]
    },
    {
      "cell_type": "code",
      "execution_count": null,
      "metadata": {
        "id": "_NTy2VPU_Zcu"
      },
      "outputs": [],
      "source": [
        "# El número de canciones reproducidas en Springfield el miércoles\n"
      ]
    },
    {
      "cell_type": "code",
      "execution_count": null,
      "metadata": {
        "id": "j2y3TAwo_Zcu"
      },
      "outputs": [],
      "source": [
        "# El número de canciones reproducidas en Shelbyville el miércoles\n"
      ]
    },
    {
      "cell_type": "code",
      "execution_count": null,
      "metadata": {
        "id": "vYDw5u_K_Zcu"
      },
      "outputs": [],
      "source": [
        "# El número de canciones reproducidas en Springfield el viernes\n"
      ]
    },
    {
      "cell_type": "code",
      "execution_count": null,
      "metadata": {
        "id": "8_yzFtW3_Zcu"
      },
      "outputs": [],
      "source": [
        "# El número de canciones reproducidas en Shelbyville el viernes\n"
      ]
    },
    {
      "cell_type": "markdown",
      "metadata": {
        "id": "p7nFQajCVw5B"
      },
      "source": [
        "[Volver a Contenidos](#back)"
      ]
    },
    {
      "cell_type": "markdown",
      "metadata": {
        "id": "ykKQ0N65_Zcv"
      },
      "source": [
        "# Conclusiones <a id='end'></a>"
      ]
    },
    {
      "cell_type": "markdown",
      "metadata": {
        "id": "tjUwbHb3_Zcv"
      },
      "source": [
        "##Escribe tus conclusiones finales sobre la hipótesis.\n",
        " * ¿Los datos apoyan la idea de que el comportamiento de los usuarios respecto a la música que escuchan varía según la ciudad y el día de la semana?\n",
        " * Indica si la hipótesis debe aceptarse o rechazarse, y justifica tu respuesta con base en los resultados obtenidos."
      ]
    },
    {
      "cell_type": "markdown",
      "metadata": {
        "id": "piRc-ATKFwZ3"
      },
      "source": [
        "Etapa 4. Detalla aquí tus conclusiones."
      ]
    },
    {
      "cell_type": "markdown",
      "metadata": {
        "id": "azLHu64yOIp7"
      },
      "source": [
        "### Nota\n",
        "En los proyectos de investigación reales, la prueba de hipótesis estadística es más precisa y cuantitativa. También ten en cuenta que no siempre se pueden sacar conclusiones sobre una ciudad entera a partir de datos de una sola fuente.\n",
        "\n",
        "Aprenderás más sobre la prueba de hipótesis en el sprint de análisis estadístico de datos."
      ]
    },
    {
      "cell_type": "markdown",
      "metadata": {
        "id": "Ju4AHDSgV1FE"
      },
      "source": [
        "[Volver a Contenidos](#back)"
      ]
    }
  ],
  "metadata": {
    "colab": {
      "collapsed_sections": [
        "E0vqbgi9ay0H",
        "VUC88oWjTJw2"
      ],
      "provenance": []
    },
    "kernelspec": {
      "display_name": "Python 3 (ipykernel)",
      "language": "python",
      "name": "python3"
    },
    "language_info": {
      "codemirror_mode": {
        "name": "ipython",
        "version": 3
      },
      "file_extension": ".py",
      "mimetype": "text/x-python",
      "name": "python",
      "nbconvert_exporter": "python",
      "pygments_lexer": "ipython3",
      "version": "3.9.22"
    },
    "toc": {
      "base_numbering": 1,
      "nav_menu": {},
      "number_sections": true,
      "sideBar": true,
      "skip_h1_title": true,
      "title_cell": "Table of Contents",
      "title_sidebar": "Contents",
      "toc_cell": false,
      "toc_position": {},
      "toc_section_display": true,
      "toc_window_display": false
    }
  },
  "nbformat": 4,
  "nbformat_minor": 0
}